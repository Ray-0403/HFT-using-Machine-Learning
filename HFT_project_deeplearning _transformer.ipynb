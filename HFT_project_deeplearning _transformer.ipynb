{
 "cells": [
  {
   "cell_type": "code",
   "execution_count": 1,
   "metadata": {
    "id": "L8sSI5nCYuOM"
   },
   "outputs": [],
   "source": [
    "# load packages\n",
    "import pandas as pd\n",
    "import pickle\n",
    "import numpy as np\n",
    "import keras\n",
    "import tensorflow as tf\n",
    "from keras import backend as K\n",
    "from keras.models import load_model, Model\n",
    "from keras.layers import Flatten, Dense, Dropout, Activation, Input, LSTM, Reshape, Conv2D, MaxPooling2D, concatenate, BatchNormalization, GlobalAveragePooling1D\n",
    "from tensorflow.keras.optimizers import Adam\n",
    "from keras.layers.advanced_activations import LeakyReLU\n",
    "from keras.utils import np_utils\n",
    "from keras.callbacks import EarlyStopping\n",
    "\n",
    "from sklearn.model_selection import TimeSeriesSplit\n",
    "from sklearn.metrics import classification_report, accuracy_score\n",
    "import matplotlib.pyplot as plt\n",
    "%matplotlib inline\n",
    "\n",
    "import keras.layers as layers\n",
    "\n",
    "# set random seeds\n",
    "np.random.seed(1)\n",
    "tf.random.set_seed(2)\n"
   ]
  },
  {
   "cell_type": "markdown",
   "metadata": {
    "id": "S7YZSv1iYuON"
   },
   "source": [
    "# Data preparation\n"
   ]
  },
  {
   "cell_type": "code",
   "execution_count": 2,
   "metadata": {
    "scrolled": false
   },
   "outputs": [
    {
     "name": "stdout",
     "output_type": "stream",
     "text": [
      "         ask_price_1  ask_volume_1  bid_price_1  bid_volume_1  ask_price_2  \\\n",
      "0           0.477250         0.001     0.477200         0.007     0.477275   \n",
      "1           0.477600         0.003     0.477575         0.009     0.477625   \n",
      "2           0.477725         0.005     0.477700         0.010     0.477750   \n",
      "3           0.477700         0.018     0.477675         0.008     0.477725   \n",
      "4           0.477550         0.001     0.477525         0.004     0.477575   \n",
      "...              ...           ...          ...           ...          ...   \n",
      "1048570     0.443175         0.005     0.443150         0.005     0.443200   \n",
      "1048571     0.443125         0.001     0.443100         0.012     0.443150   \n",
      "1048572     0.443150         0.011     0.443125         0.003     0.443175   \n",
      "1048573     0.443150         0.003     0.443125         0.009     0.443175   \n",
      "1048574     0.443175         0.007     0.443150         0.016     0.443200   \n",
      "\n",
      "         ask_volume_2  bid_price_2  bid_volume_2  ask_price_3  ask_volume_3  \\\n",
      "0               0.012     0.477175         0.006     0.477300         0.019   \n",
      "1               0.006     0.477550         0.004     0.477650         0.004   \n",
      "2               0.010     0.477675         0.005     0.477775         0.005   \n",
      "3               0.006     0.477650         0.020     0.477750         0.018   \n",
      "4               0.008     0.477500         0.005     0.477600         0.006   \n",
      "...               ...          ...           ...          ...           ...   \n",
      "1048570         0.013     0.443125         0.015     0.443225         0.017   \n",
      "1048571         0.005     0.443075         0.020     0.443175         0.021   \n",
      "1048572         0.021     0.443100         0.012     0.443200         0.021   \n",
      "1048573         0.008     0.443100         0.017     0.443200         0.016   \n",
      "1048574         0.005     0.443125         0.012     0.443225         0.011   \n",
      "\n",
      "         ...  bid_volume_13  ask_price_14  ask_volume_14  bid_price_14  \\\n",
      "0        ...          0.041      0.477575          0.011      0.476875   \n",
      "1        ...          0.014      0.477925          0.007      0.477250   \n",
      "2        ...          0.017      0.478050          0.020      0.477375   \n",
      "3        ...          0.020      0.478025          0.027      0.477350   \n",
      "4        ...          0.043      0.477875          0.025      0.477200   \n",
      "...      ...            ...           ...            ...           ...   \n",
      "1048570  ...          0.041      0.443500          0.039      0.442825   \n",
      "1048571  ...          0.058      0.443450          0.035      0.442775   \n",
      "1048572  ...          0.026      0.443475          0.029      0.442800   \n",
      "1048573  ...          0.026      0.443475          0.029      0.442800   \n",
      "1048574  ...          0.036      0.443500          0.047      0.442825   \n",
      "\n",
      "         bid_volume_14  ask_price_15  ask_volume_15  bid_price_15  \\\n",
      "0                0.022      0.477600          0.040      0.476850   \n",
      "1                0.014      0.477950          0.022      0.477225   \n",
      "2                0.020      0.478075          0.035      0.477350   \n",
      "3                0.019      0.478050          0.042      0.477325   \n",
      "4                0.034      0.477900          0.079      0.477175   \n",
      "...                ...           ...            ...           ...   \n",
      "1048570          0.025      0.443525          0.033      0.442800   \n",
      "1048571          0.030      0.443475          0.029      0.442750   \n",
      "1048572          0.059      0.443500          0.043      0.442775   \n",
      "1048573          0.059      0.443500          0.047      0.442775   \n",
      "1048574          0.026      0.443525          0.035      0.442800   \n",
      "\n",
      "         bid_volume_15   trend  \n",
      "0                0.036       1  \n",
      "1                0.024       1  \n",
      "2                0.019       0  \n",
      "3                0.035      -1  \n",
      "4                0.028      -1  \n",
      "...                ...     ...  \n",
      "1048570          0.061      -1  \n",
      "1048571          0.028      -1  \n",
      "1048572          0.030       0  \n",
      "1048573          0.031       0  \n",
      "1048574          0.063       0  \n",
      "\n",
      "[1048575 rows x 61 columns]\n"
     ]
    }
   ],
   "source": [
    "import itertools\n",
    "\n",
    "def load_data(level):\n",
    "    data = pd.read_csv('/Users/r/Desktop/HFT project/ES 1.2-2.1 1s 15level LOB data/ES lob 1.2-2.1 15levels.csv', skiprows=0)\n",
    "    \n",
    "    levels = list(range(1, level + 1))\n",
    "    iters = [iter(levels), iter(levels), iter(levels), iter(levels)]\n",
    "    abv = ['ask_price', 'ask_volume', 'bid_price', 'bid_volume'] * level\n",
    "    nums = [x for x in itertools.chain.from_iterable(itertools.zip_longest(levels, levels, levels, levels)) if x]\n",
    "    data.columns = list(map(lambda x, y: '{0}_{1}'.format(x, y), abv, nums))\n",
    "    \n",
    "    return data\n",
    "\n",
    "lob = load_data(15)\n",
    "#print(lob)\n",
    "\n",
    "\n",
    "for i in range(1, 15 + 1):\n",
    "    lob['ask_price_{}'.format(i)] = lob['ask_price_{}'.format(i)]/10000\n",
    "    lob['bid_price_{}'.format(i)] = lob['bid_price_{}'.format(i)]/10000\n",
    "    lob['ask_volume_{}'.format(i)] = lob['ask_volume_{}'.format(i)]/1000\n",
    "    lob['bid_volume_{}'.format(i)] = lob['bid_volume_{}'.format(i)]/1000\n",
    "    \n",
    "label = pd.read_csv('/Users/r/Desktop/HFT project/label 0.0001 10.csv')   \n",
    "lob = pd.concat([lob, label], axis=1)\n",
    "print(lob)"
   ]
  },
  {
   "cell_type": "code",
   "execution_count": 3,
   "metadata": {
    "id": "dEq_7x38YuOO"
   },
   "outputs": [],
   "source": [
    "def prepare_x(data):\n",
    "    df1 = data[:, :60]\n",
    "    return np.array(df1)\n",
    "\n",
    "def get_label(data):\n",
    "    lob = data[:, -1:]\n",
    "    return lob\n",
    "\n",
    "def data_classification(X, Y, T):\n",
    "    [N, D] = X.shape\n",
    "    df = np.array(X)\n",
    "    dY = np.array(Y)\n",
    "    dataY = dY[T - 1:N]\n",
    "    dataX = np.zeros((N - T + 1, T, D))\n",
    "    for i in range(T, N + 1):\n",
    "        dataX[i - T] = df[i - T:i, :]\n",
    "    return dataX.reshape(dataX.shape + (1,)), dataY\n",
    "\n",
    "def prepare_x_y(data, T):\n",
    "    x = prepare_x(data)\n",
    "    y = get_label(data)\n",
    "    x, y = data_classification(x, y, T=T)\n",
    "    y = y + 1\n",
    "    y = np_utils.to_categorical(y, 3)\n",
    "    return x, y"
   ]
  },
  {
   "cell_type": "code",
   "execution_count": 4,
   "metadata": {
    "id": "pYhZljyiYuOO",
    "scrolled": true
   },
   "outputs": [
    {
     "name": "stdout",
     "output_type": "stream",
     "text": [
      "(74926, 100, 60, 1) (74926, 3)\n",
      "(24975, 100, 60, 1) (24975, 3)\n",
      "(99901, 100, 60, 1) (99901, 3)\n"
     ]
    }
   ],
   "source": [
    "dec_data = np.array(lob)\n",
    "\n",
    "dec_data1 = dec_data[0:100000, :]\n",
    "dec_data2 = dec_data[150000:250000, :]\n",
    "\n",
    "T = 100  # the length of a single input\n",
    "\n",
    "X, Y = prepare_x_y(dec_data1, T)\n",
    " \n",
    "tss = TimeSeriesSplit(n_splits=3)\n",
    "\n",
    "for train_index, test_index in tss.split(X):\n",
    "    trainX_CNN, valX_CNN = X[train_index], X[test_index]\n",
    "    trainY_CNN, valY_CNN = Y[train_index], Y[test_index]\n",
    "    \n",
    "    \n",
    "print(trainX_CNN.shape, trainY_CNN.shape)\n",
    "print(valX_CNN.shape, valY_CNN.shape)\n",
    "\n",
    "\n",
    "testX_CNN, testY_CNN = prepare_x_y(dec_data2, T)\n",
    "print(testX_CNN.shape, testY_CNN.shape)"
   ]
  },
  {
   "cell_type": "markdown",
   "metadata": {
    "id": "bxTnIgPuYuOP"
   },
   "source": [
    "# Model Architecture\n"
   ]
  },
  {
   "cell_type": "code",
   "execution_count": 13,
   "metadata": {
    "id": "jrX-z2j1YuOQ",
    "scrolled": true
   },
   "outputs": [],
   "source": [
    "from keras.backend import sigmoid\n",
    "from keras.utils.generic_utils import get_custom_objects\n",
    "from keras.layers import Activation\n",
    "\n",
    "def swish(x, beta = 1):\n",
    "    return (x * sigmoid(beta * x))\n",
    "\n",
    "get_custom_objects().update({'swish': Activation(swish)})\n",
    "\n",
    "\n",
    "\n",
    "def transformer_encoder(inputs, head_size, num_heads, ff_dim, dropout=0):\n",
    "    # Normalization and Attention\n",
    "    x = layers.LayerNormalization(epsilon=1e-6)(inputs)\n",
    "    x = layers.MultiHeadAttention(\n",
    "        key_dim=head_size, num_heads=num_heads, dropout=dropout\n",
    "    )(x, x)\n",
    "    x = layers.Dropout(dropout)(x)\n",
    "    res = x + inputs\n",
    "\n",
    "    # Feed Forward Part\n",
    "    x = layers.LayerNormalization(epsilon=1e-6)(res)\n",
    "    x = layers.Conv1D(filters=ff_dim, kernel_size=1, activation='swish')(x)\n",
    "    x = layers.Dropout(dropout)(x)\n",
    "    x = layers.Conv1D(filters=inputs.shape[-1], kernel_size=1)(x)\n",
    "    return x + res\n",
    "\n",
    "\n",
    "def positional_encoding(x):\n",
    "    steps, d_model = x.get_shape().as_list()[-2:] \n",
    "    ps = np.zeros([steps,1],dtype=K.floatx()) \n",
    "    for tx in range(steps):\n",
    "        ps[tx,:] = [(2/(steps-1))*tx - 1] \n",
    "\n",
    "    ps_expand = K.expand_dims(K.constant(ps),axis=0) \n",
    "    ps_tiled = K.tile(ps_expand,[K.shape(x)[0],1,1]) \n",
    "\n",
    "    x = K.concatenate([x,ps_tiled],axis=-1)\n",
    "    return x\n",
    "\n",
    "\n",
    "\n",
    "lookback_timestep = 100\n",
    "feature_num = 60  \n",
    "\n",
    "#Conv param\n",
    "conv_filter_num = 16\n",
    "\n",
    "#Inception module param\n",
    "inception_num = 32\n",
    "\n",
    "# categorical crossentropy loss\n",
    "loss = 'categorical_crossentropy'\n",
    "\n",
    "learning_rate = 1e-2\n",
    "adam_epsilon = 1\n",
    "optimizer = Adam(lr=learning_rate, epsilon=1)\n",
    "\n",
    "metrics = ['accuracy']\n",
    "\n",
    "num_epoch = 10  #200\n",
    "#stop training when validation accuracy does not improve for 20 epochs\n",
    "stop_epoch_num = 20\n",
    "\n",
    "batch_size = 32\n",
    "\n",
    "\n",
    "def initiate_DeepLOB_model(lookback_timestep, feature_num, conv_filter_num, inception_num,\n",
    "                          loss, optimizer, metrics):\n",
    "    \n",
    "    input_tensor = Input(shape=(lookback_timestep, feature_num, 1))\n",
    "    # Conv block1\n",
    "    print(input_tensor.shape)\n",
    "    conv_layer1 = Conv2D(conv_filter_num, (1,2), strides=(1, 2), activation='swish')(input_tensor)\n",
    "    conv_layer1 = BatchNormalization()(conv_layer1)\n",
    "    print(conv_layer1.shape)\n",
    "    conv_layer1 = Conv2D(conv_filter_num, (4,1), padding='same', activation='swish')(conv_layer1)\n",
    "    conv_layer1 = BatchNormalization()(conv_layer1)\n",
    "    print(conv_layer1.shape)\n",
    "    conv_layer1 = Conv2D(conv_filter_num, (4,1), padding='same', activation='swish')(conv_layer1)\n",
    "    conv_layer1 = BatchNormalization()(conv_layer1)\n",
    "    print(conv_layer1.shape)\n",
    "\n",
    "    # Conv block2\n",
    "    conv_layer2 = Conv2D(conv_filter_num, (1,2), strides=(1, 2), activation='swish')(conv_layer1)\n",
    "    conv_layer2 = BatchNormalization()(conv_layer2)\n",
    "    print(conv_layer2.shape)\n",
    "    conv_layer2 = Conv2D(conv_filter_num, (4,1), padding='same', activation='swish')(conv_layer2)\n",
    "    conv_layer2 = BatchNormalization()(conv_layer2)\n",
    "    print(conv_layer2.shape)\n",
    "    conv_layer2 = Conv2D(conv_filter_num, (4,1), padding='same', activation='swish')(conv_layer2)\n",
    "    conv_layer2 = BatchNormalization()(conv_layer2)\n",
    "    print(conv_layer2.shape)\n",
    "\n",
    "    # dilated conv 1 & 2\n",
    "    dilated_conv1 = Conv2D(conv_filter_num, (1, 20), dilation_rate=2, strides=(1, 1), activation='swish')(input_tensor)\n",
    "    dilated_conv1 = BatchNormalization()(dilated_conv1)\n",
    "    print(dilated_conv1.shape)\n",
    "    dilated_conv1 = Conv2D(conv_filter_num, (4,1), padding='same', activation='swish')(dilated_conv1)\n",
    "    dilated_conv1 = BatchNormalization()(dilated_conv1)\n",
    "    print(dilated_conv1.shape)\n",
    "\n",
    "    dilated_conv2 = Conv2D(conv_filter_num, (1, 10), dilation_rate=4, strides=(1, 1), activation='swish')(input_tensor)\n",
    "    dilated_conv2 = BatchNormalization()(dilated_conv2)\n",
    "    print(dilated_conv2.shape)\n",
    "    dilated_conv2 = Conv2D(conv_filter_num, (4,1), padding='same', activation='swish')(dilated_conv2)\n",
    "    dilated_conv2 = BatchNormalization()(dilated_conv2)\n",
    "    print(dilated_conv2.shape)\n",
    "    \n",
    "    # concate\n",
    "    conv_layer2 = concatenate([conv_layer2, dilated_conv1, dilated_conv2], axis=2)\n",
    "    \n",
    "    # Conv block3 \n",
    "    conv_layer3 = Conv2D(conv_filter_num, (1,15+22+24), activation='swish')(conv_layer2)  \n",
    "    conv_layer3 = BatchNormalization()(conv_layer3)\n",
    "    print(conv_layer3.shape)\n",
    "    conv_layer3 = Conv2D(conv_filter_num, (4,1), padding='same', activation='swish')(conv_layer3)\n",
    "    conv_layer3 = BatchNormalization()(conv_layer3)\n",
    "    print(conv_layer3.shape)\n",
    "    conv_layer3 = Conv2D(conv_filter_num, (4,1), padding='same', activation='swish')(conv_layer3)\n",
    "    conv_layer3 = BatchNormalization()(conv_layer3)\n",
    "    print(conv_layer3.shape)\n",
    "    \n",
    "    # Inception module\n",
    "    inception_module1 = Conv2D(inception_num, (1,1), padding='same', activation='swish')(conv_layer3)\n",
    "    inception_module1 = BatchNormalization()(inception_module1)\n",
    "    print(inception_module1.shape)\n",
    "    inception_module1 = Conv2D(inception_num, (3,1), padding='same', activation='swish')(inception_module1)\n",
    "    inception_module1 = BatchNormalization()(inception_module1)\n",
    "    print(inception_module1.shape)\n",
    "\n",
    "    inception_module2 = Conv2D(inception_num, (1,1), padding='same', activation='swish')(conv_layer3)\n",
    "    inception_module2 = BatchNormalization()(inception_module2)\n",
    "    print(inception_module2.shape)\n",
    "    inception_module2 = Conv2D(inception_num, (5,1), padding='same', activation='swish')(inception_module2)\n",
    "    inception_module2 = BatchNormalization()(inception_module2)\n",
    "    print(inception_module2.shape)\n",
    "\n",
    "    inception_module3 = MaxPooling2D((3,1), strides=(1,1), padding='same')(conv_layer3)\n",
    "    inception_module3 = BatchNormalization()(inception_module3)\n",
    "    print(inception_module3.shape)\n",
    "    inception_module3 = Conv2D(inception_num, (1,1), padding='same', activation='swish')(inception_module3)\n",
    "    inception_module3 = BatchNormalization()(inception_module3)\n",
    "    print(inception_module3.shape)\n",
    "    \n",
    "    inception_module_final = concatenate([inception_module1, inception_module2, inception_module3], axis=3)\n",
    "    print(inception_module_final.shape)\n",
    "    inception_module_final = Reshape((inception_module_final.shape[1], inception_module_final.shape[3]))(inception_module_final)\n",
    "    print(inception_module_final.shape)\n",
    "\n",
    "    #transformer\n",
    "    transformer = inception_module_final\n",
    "    \n",
    "    transformer = positional_encoding(transformer)\n",
    "    print(transformer.shape)\n",
    "    \n",
    "    for _ in range(2):  #transformer blocks=2\n",
    "        transformer = transformer_encoder(transformer, head_size=128, num_heads=8, ff_dim=97, dropout=0.2)\n",
    "\n",
    "    print(transformer.shape)\n",
    "    transformer = layers.GlobalAveragePooling1D(data_format='channels_last')(transformer)\n",
    "    print(transformer.shape)\n",
    "    \n",
    "    # Fully Connected Layer with softmax activation function for output\n",
    "    model_output = Dense(3, activation='softmax')(transformer)\n",
    "    print(model_output.shape)\n",
    "    \n",
    "    \n",
    "    \n",
    "    DeepLOB_model = Model(inputs= input_tensor, outputs= model_output)  \n",
    "    \n",
    "    DeepLOB_model.compile(optimizer=optimizer, loss=loss, metrics=metrics)\n",
    "\n",
    "    return DeepLOB_model\n"
   ]
  },
  {
   "cell_type": "code",
   "execution_count": 14,
   "metadata": {
    "scrolled": false
   },
   "outputs": [
    {
     "name": "stdout",
     "output_type": "stream",
     "text": [
      "(None, 100, 60, 1)\n",
      "(None, 100, 30, 16)\n",
      "(None, 100, 30, 16)\n",
      "(None, 100, 30, 16)\n",
      "(None, 100, 15, 16)\n",
      "(None, 100, 15, 16)\n",
      "(None, 100, 15, 16)\n",
      "(None, 100, 22, 16)\n",
      "(None, 100, 22, 16)\n",
      "(None, 100, 24, 16)\n",
      "(None, 100, 24, 16)\n",
      "(None, 100, 1, 16)\n",
      "(None, 100, 1, 16)\n",
      "(None, 100, 1, 16)\n",
      "(None, 100, 1, 32)\n",
      "(None, 100, 1, 32)\n",
      "(None, 100, 1, 32)\n",
      "(None, 100, 1, 32)\n",
      "(None, 100, 1, 16)\n",
      "(None, 100, 1, 32)\n",
      "(None, 100, 1, 96)\n",
      "(None, 100, 96)\n",
      "(None, 100, 97)\n",
      "(None, 100, 97)\n",
      "(None, 97)\n",
      "(None, 3)\n"
     ]
    }
   ],
   "source": [
    "DeepLOB_model = initiate_DeepLOB_model(lookback_timestep, feature_num, conv_filter_num, inception_num,\n",
    "                          loss, optimizer, metrics)"
   ]
  },
  {
   "cell_type": "code",
   "execution_count": 15,
   "metadata": {
    "scrolled": false
   },
   "outputs": [
    {
     "name": "stdout",
     "output_type": "stream",
     "text": [
      "Model: \"model_2\"\n",
      "__________________________________________________________________________________________________\n",
      "Layer (type)                    Output Shape         Param #     Connected to                     \n",
      "==================================================================================================\n",
      "input_3 (InputLayer)            [(None, 100, 60, 1)] 0                                            \n",
      "__________________________________________________________________________________________________\n",
      "conv2d_36 (Conv2D)              (None, 100, 30, 16)  48          input_3[0][0]                    \n",
      "__________________________________________________________________________________________________\n",
      "batch_normalization_38 (BatchNo (None, 100, 30, 16)  64          conv2d_36[0][0]                  \n",
      "__________________________________________________________________________________________________\n",
      "conv2d_37 (Conv2D)              (None, 100, 30, 16)  1040        batch_normalization_38[0][0]     \n",
      "__________________________________________________________________________________________________\n",
      "batch_normalization_39 (BatchNo (None, 100, 30, 16)  64          conv2d_37[0][0]                  \n",
      "__________________________________________________________________________________________________\n",
      "conv2d_38 (Conv2D)              (None, 100, 30, 16)  1040        batch_normalization_39[0][0]     \n",
      "__________________________________________________________________________________________________\n",
      "batch_normalization_40 (BatchNo (None, 100, 30, 16)  64          conv2d_38[0][0]                  \n",
      "__________________________________________________________________________________________________\n",
      "conv2d_39 (Conv2D)              (None, 100, 15, 16)  528         batch_normalization_40[0][0]     \n",
      "__________________________________________________________________________________________________\n",
      "batch_normalization_41 (BatchNo (None, 100, 15, 16)  64          conv2d_39[0][0]                  \n",
      "__________________________________________________________________________________________________\n",
      "conv2d_40 (Conv2D)              (None, 100, 15, 16)  1040        batch_normalization_41[0][0]     \n",
      "__________________________________________________________________________________________________\n",
      "conv2d_42 (Conv2D)              (None, 100, 22, 16)  336         input_3[0][0]                    \n",
      "__________________________________________________________________________________________________\n",
      "conv2d_44 (Conv2D)              (None, 100, 24, 16)  176         input_3[0][0]                    \n",
      "__________________________________________________________________________________________________\n",
      "batch_normalization_42 (BatchNo (None, 100, 15, 16)  64          conv2d_40[0][0]                  \n",
      "__________________________________________________________________________________________________\n",
      "batch_normalization_44 (BatchNo (None, 100, 22, 16)  64          conv2d_42[0][0]                  \n",
      "__________________________________________________________________________________________________\n",
      "batch_normalization_46 (BatchNo (None, 100, 24, 16)  64          conv2d_44[0][0]                  \n",
      "__________________________________________________________________________________________________\n",
      "conv2d_41 (Conv2D)              (None, 100, 15, 16)  1040        batch_normalization_42[0][0]     \n",
      "__________________________________________________________________________________________________\n",
      "conv2d_43 (Conv2D)              (None, 100, 22, 16)  1040        batch_normalization_44[0][0]     \n",
      "__________________________________________________________________________________________________\n",
      "conv2d_45 (Conv2D)              (None, 100, 24, 16)  1040        batch_normalization_46[0][0]     \n",
      "__________________________________________________________________________________________________\n",
      "batch_normalization_43 (BatchNo (None, 100, 15, 16)  64          conv2d_41[0][0]                  \n",
      "__________________________________________________________________________________________________\n",
      "batch_normalization_45 (BatchNo (None, 100, 22, 16)  64          conv2d_43[0][0]                  \n",
      "__________________________________________________________________________________________________\n",
      "batch_normalization_47 (BatchNo (None, 100, 24, 16)  64          conv2d_45[0][0]                  \n",
      "__________________________________________________________________________________________________\n",
      "concatenate_4 (Concatenate)     (None, 100, 61, 16)  0           batch_normalization_43[0][0]     \n",
      "                                                                 batch_normalization_45[0][0]     \n",
      "                                                                 batch_normalization_47[0][0]     \n",
      "__________________________________________________________________________________________________\n",
      "conv2d_46 (Conv2D)              (None, 100, 1, 16)   15632       concatenate_4[0][0]              \n",
      "__________________________________________________________________________________________________\n",
      "batch_normalization_48 (BatchNo (None, 100, 1, 16)   64          conv2d_46[0][0]                  \n",
      "__________________________________________________________________________________________________\n",
      "conv2d_47 (Conv2D)              (None, 100, 1, 16)   1040        batch_normalization_48[0][0]     \n",
      "__________________________________________________________________________________________________\n",
      "batch_normalization_49 (BatchNo (None, 100, 1, 16)   64          conv2d_47[0][0]                  \n",
      "__________________________________________________________________________________________________\n",
      "conv2d_48 (Conv2D)              (None, 100, 1, 16)   1040        batch_normalization_49[0][0]     \n",
      "__________________________________________________________________________________________________\n",
      "batch_normalization_50 (BatchNo (None, 100, 1, 16)   64          conv2d_48[0][0]                  \n",
      "__________________________________________________________________________________________________\n",
      "conv2d_49 (Conv2D)              (None, 100, 1, 32)   544         batch_normalization_50[0][0]     \n",
      "__________________________________________________________________________________________________\n",
      "conv2d_51 (Conv2D)              (None, 100, 1, 32)   544         batch_normalization_50[0][0]     \n",
      "__________________________________________________________________________________________________\n",
      "max_pooling2d_2 (MaxPooling2D)  (None, 100, 1, 16)   0           batch_normalization_50[0][0]     \n",
      "__________________________________________________________________________________________________\n",
      "batch_normalization_51 (BatchNo (None, 100, 1, 32)   128         conv2d_49[0][0]                  \n",
      "__________________________________________________________________________________________________\n",
      "batch_normalization_53 (BatchNo (None, 100, 1, 32)   128         conv2d_51[0][0]                  \n",
      "__________________________________________________________________________________________________\n",
      "batch_normalization_55 (BatchNo (None, 100, 1, 16)   64          max_pooling2d_2[0][0]            \n",
      "__________________________________________________________________________________________________\n",
      "conv2d_50 (Conv2D)              (None, 100, 1, 32)   3104        batch_normalization_51[0][0]     \n",
      "__________________________________________________________________________________________________\n",
      "conv2d_52 (Conv2D)              (None, 100, 1, 32)   5152        batch_normalization_53[0][0]     \n",
      "__________________________________________________________________________________________________\n",
      "conv2d_53 (Conv2D)              (None, 100, 1, 32)   544         batch_normalization_55[0][0]     \n",
      "__________________________________________________________________________________________________\n",
      "batch_normalization_52 (BatchNo (None, 100, 1, 32)   128         conv2d_50[0][0]                  \n",
      "__________________________________________________________________________________________________\n",
      "batch_normalization_54 (BatchNo (None, 100, 1, 32)   128         conv2d_52[0][0]                  \n",
      "__________________________________________________________________________________________________\n",
      "batch_normalization_56 (BatchNo (None, 100, 1, 32)   128         conv2d_53[0][0]                  \n",
      "__________________________________________________________________________________________________\n",
      "concatenate_5 (Concatenate)     (None, 100, 1, 96)   0           batch_normalization_52[0][0]     \n",
      "                                                                 batch_normalization_54[0][0]     \n",
      "                                                                 batch_normalization_56[0][0]     \n",
      "__________________________________________________________________________________________________\n",
      "reshape_2 (Reshape)             (None, 100, 96)      0           concatenate_5[0][0]              \n",
      "__________________________________________________________________________________________________\n",
      "tf.compat.v1.shape_2 (TFOpLambd (3,)                 0           reshape_2[0][0]                  \n",
      "__________________________________________________________________________________________________\n",
      "tf.__operators__.getitem_2 (Sli ()                   0           tf.compat.v1.shape_2[0][0]       \n",
      "__________________________________________________________________________________________________\n",
      "tf.tile_2 (TFOpLambda)          (None, 100, 1)       0           tf.__operators__.getitem_2[0][0] \n",
      "__________________________________________________________________________________________________\n",
      "tf.concat_2 (TFOpLambda)        (None, 100, 97)      0           reshape_2[0][0]                  \n",
      "                                                                 tf.tile_2[0][0]                  \n",
      "__________________________________________________________________________________________________\n",
      "layer_normalization_8 (LayerNor (None, 100, 97)      194         tf.concat_2[0][0]                \n",
      "__________________________________________________________________________________________________\n",
      "multi_head_attention_4 (MultiHe (None, 100, 97)      400481      layer_normalization_8[0][0]      \n",
      "                                                                 layer_normalization_8[0][0]      \n",
      "__________________________________________________________________________________________________\n",
      "dropout_8 (Dropout)             (None, 100, 97)      0           multi_head_attention_4[0][0]     \n",
      "__________________________________________________________________________________________________\n",
      "tf.__operators__.add_8 (TFOpLam (None, 100, 97)      0           dropout_8[0][0]                  \n",
      "                                                                 tf.concat_2[0][0]                \n",
      "__________________________________________________________________________________________________\n",
      "layer_normalization_9 (LayerNor (None, 100, 97)      194         tf.__operators__.add_8[0][0]     \n",
      "__________________________________________________________________________________________________\n",
      "conv1d_8 (Conv1D)               (None, 100, 97)      9506        layer_normalization_9[0][0]      \n",
      "__________________________________________________________________________________________________\n",
      "dropout_9 (Dropout)             (None, 100, 97)      0           conv1d_8[0][0]                   \n",
      "__________________________________________________________________________________________________\n",
      "conv1d_9 (Conv1D)               (None, 100, 97)      9506        dropout_9[0][0]                  \n",
      "__________________________________________________________________________________________________\n",
      "tf.__operators__.add_9 (TFOpLam (None, 100, 97)      0           conv1d_9[0][0]                   \n",
      "                                                                 tf.__operators__.add_8[0][0]     \n",
      "__________________________________________________________________________________________________\n",
      "layer_normalization_10 (LayerNo (None, 100, 97)      194         tf.__operators__.add_9[0][0]     \n",
      "__________________________________________________________________________________________________\n",
      "multi_head_attention_5 (MultiHe (None, 100, 97)      400481      layer_normalization_10[0][0]     \n",
      "                                                                 layer_normalization_10[0][0]     \n",
      "__________________________________________________________________________________________________\n",
      "dropout_10 (Dropout)            (None, 100, 97)      0           multi_head_attention_5[0][0]     \n",
      "__________________________________________________________________________________________________\n",
      "tf.__operators__.add_10 (TFOpLa (None, 100, 97)      0           dropout_10[0][0]                 \n",
      "                                                                 tf.__operators__.add_9[0][0]     \n",
      "__________________________________________________________________________________________________\n",
      "layer_normalization_11 (LayerNo (None, 100, 97)      194         tf.__operators__.add_10[0][0]    \n",
      "__________________________________________________________________________________________________\n",
      "conv1d_10 (Conv1D)              (None, 100, 97)      9506        layer_normalization_11[0][0]     \n",
      "__________________________________________________________________________________________________\n",
      "dropout_11 (Dropout)            (None, 100, 97)      0           conv1d_10[0][0]                  \n",
      "__________________________________________________________________________________________________\n",
      "conv1d_11 (Conv1D)              (None, 100, 97)      9506        dropout_11[0][0]                 \n",
      "__________________________________________________________________________________________________\n",
      "tf.__operators__.add_11 (TFOpLa (None, 100, 97)      0           conv1d_11[0][0]                  \n",
      "                                                                 tf.__operators__.add_10[0][0]    \n",
      "__________________________________________________________________________________________________\n",
      "global_average_pooling1d_2 (Glo (None, 97)           0           tf.__operators__.add_11[0][0]    \n",
      "__________________________________________________________________________________________________\n",
      "dense_2 (Dense)                 (None, 3)            294         global_average_pooling1d_2[0][0] \n",
      "==================================================================================================\n",
      "Total params: 876,520\n",
      "Trainable params: 875,752\n",
      "Non-trainable params: 768\n",
      "__________________________________________________________________________________________________\n"
     ]
    }
   ],
   "source": [
    "from tensorflow.keras.utils import plot_model\n",
    "\n",
    "DeepLOB_model.summary()\n",
    "\n",
    "#plot_model(DeepLOB_model, 'deeplob.png', show_shapes=True)"
   ]
  },
  {
   "cell_type": "markdown",
   "metadata": {
    "id": "n7-XKQMAYuOR"
   },
   "source": [
    "# Model Training"
   ]
  },
  {
   "cell_type": "code",
   "execution_count": 16,
   "metadata": {
    "colab": {
     "background_save": true
    },
    "id": "4f8I4inGYuOR",
    "scrolled": false
   },
   "outputs": [
    {
     "name": "stdout",
     "output_type": "stream",
     "text": [
      "Epoch 1/10\n"
     ]
    },
    {
     "name": "stderr",
     "output_type": "stream",
     "text": [
      "2022-05-12 17:19:01.508622: I tensorflow/core/grappler/optimizers/custom_graph_optimizer_registry.cc:113] Plugin optimizer for device_type GPU is enabled.\n",
      "2022-05-12 17:32:22.799188: I tensorflow/core/grappler/optimizers/custom_graph_optimizer_registry.cc:113] Plugin optimizer for device_type GPU is enabled.\n"
     ]
    },
    {
     "name": "stdout",
     "output_type": "stream",
     "text": [
      "2342/2342 - 916s - loss: 0.5725 - accuracy: 0.8089 - val_loss: 0.6825 - val_accuracy: 0.8026\n",
      "Epoch 2/10\n",
      "2342/2342 - 912s - loss: 0.5306 - accuracy: 0.8141 - val_loss: 0.7644 - val_accuracy: 0.8030\n",
      "Epoch 3/10\n",
      "2342/2342 - 918s - loss: 0.4985 - accuracy: 0.8189 - val_loss: 0.8656 - val_accuracy: 0.8031\n",
      "Epoch 4/10\n",
      "2342/2342 - 904s - loss: 0.4754 - accuracy: 0.8229 - val_loss: 0.6810 - val_accuracy: 0.7980\n",
      "Epoch 5/10\n",
      "2342/2342 - 902s - loss: 0.4575 - accuracy: 0.8255 - val_loss: 0.7423 - val_accuracy: 0.7945\n",
      "Epoch 6/10\n",
      "2342/2342 - 906s - loss: 0.4422 - accuracy: 0.8276 - val_loss: 0.8108 - val_accuracy: 0.7913\n",
      "Epoch 7/10\n",
      "2342/2342 - 905s - loss: 0.4287 - accuracy: 0.8322 - val_loss: 0.7307 - val_accuracy: 0.7791\n",
      "Epoch 8/10\n",
      "2342/2342 - 907s - loss: 0.4189 - accuracy: 0.8343 - val_loss: 0.8004 - val_accuracy: 0.7926\n",
      "Epoch 9/10\n",
      "2342/2342 - 910s - loss: 0.4050 - accuracy: 0.8384 - val_loss: 0.7685 - val_accuracy: 0.7875\n",
      "Epoch 10/10\n",
      "2342/2342 - 911s - loss: 0.3978 - accuracy: 0.8395 - val_loss: 0.8597 - val_accuracy: 0.7741\n"
     ]
    }
   ],
   "source": [
    "es = EarlyStopping(monitor='val_accuracy', mode='max', patience = stop_epoch_num, verbose=1)\n",
    "\n",
    "history = DeepLOB_model.fit(trainX_CNN, trainY_CNN, epochs=num_epoch, batch_size=batch_size, verbose=2, validation_data=(valX_CNN, valY_CNN), callbacks = [es])\n"
   ]
  },
  {
   "cell_type": "code",
   "execution_count": 17,
   "metadata": {
    "scrolled": true
   },
   "outputs": [
    {
     "data": {
      "image/png": "[encoded data removed]",
      "text/plain": [
       "<Figure size 432x288 with 1 Axes>"
      ]
     },
     "metadata": {
      "needs_background": "light"
     },
     "output_type": "display_data"
    }
   ],
   "source": [
    "plt.plot(history.history['accuracy'], label='accuracy')\n",
    "plt.plot(history.history['val_accuracy'], label = 'val_accuracy')\n",
    "plt.xlabel('Epoch')\n",
    "plt.ylabel('Accuracy')\n",
    "plt.ylim([0.5, 1])\n",
    "plt.legend(loc='lower right')\n",
    "plt.show()"
   ]
  },
  {
   "cell_type": "markdown",
   "metadata": {
    "id": "Y1zlL0YsYuOS"
   },
   "source": [
    "# Model Testing"
   ]
  },
  {
   "cell_type": "code",
   "execution_count": 18,
   "metadata": {
    "id": "OmH5NEIGYuOT"
   },
   "outputs": [
    {
     "name": "stdout",
     "output_type": "stream",
     "text": [
      "3122/3122 - 453s - loss: 1.1705 - accuracy: 0.5852\n"
     ]
    }
   ],
   "source": [
    "test_loss, test_acc = DeepLOB_model.evaluate(testX_CNN, testY_CNN, verbose=2)"
   ]
  },
  {
   "cell_type": "code",
   "execution_count": null,
   "metadata": {
    "id": "N4Jc8FD2YuOT"
   },
   "outputs": [],
   "source": [
    "DeepLOB_model.save('saved_model/my_model')\n",
    "\n",
    "DeepLOB_model = load_model('saved_model/my_model')\n",
    "DeepLOB_model.summary()"
   ]
  },
  {
   "cell_type": "code",
   "execution_count": 19,
   "metadata": {
    "id": "hkvb_TWXYuOT",
    "scrolled": true
   },
   "outputs": [
    {
     "name": "stderr",
     "output_type": "stream",
     "text": [
      "2022-05-12 20:00:16.948203: I tensorflow/core/grappler/optimizers/custom_graph_optimizer_registry.cc:113] Plugin optimizer for device_type GPU is enabled.\n"
     ]
    },
    {
     "name": "stdout",
     "output_type": "stream",
     "text": [
      "test_accuracy: 0.7741341341341341\n",
      "test_f1_score: 0.7151553944639234\n"
     ]
    }
   ],
   "source": [
    "pred = DeepLOB_model.predict(valX_CNN)\n",
    "\n",
    "from sklearn.metrics import f1_score\n",
    "\n",
    "print('test_accuracy:', accuracy_score(valY_CNN.argmax(1)-1, pred.argmax(1)-1))\n",
    "print('test_f1_score:', f1_score(valY_CNN.argmax(1)-1, pred.argmax(1)-1, average='weighted'))"
   ]
  },
  {
   "cell_type": "code",
   "execution_count": 20,
   "metadata": {
    "id": "PrbACezCYuOU",
    "scrolled": true
   },
   "outputs": [
    {
     "name": "stdout",
     "output_type": "stream",
     "text": [
      "[[0.07198364 0.9202454  0.00777096]\n",
      " [0.03734171 0.95308605 0.00957224]\n",
      " [0.05501618 0.92839806 0.01658576]]\n"
     ]
    },
    {
     "data": {
      "image/png": "[encoded data removed]",
      "text/plain": [
       "<Figure size 432x288 with 2 Axes>"
      ]
     },
     "metadata": {
      "needs_background": "light"
     },
     "output_type": "display_data"
    }
   ],
   "source": [
    "from sklearn.metrics import confusion_matrix, ConfusionMatrixDisplay\n",
    "\n",
    "cm = confusion_matrix(valY_CNN.argmax(1)-1, pred.argmax(1)-1, normalize='true')\n",
    "print(cm)\n",
    "\n",
    "ConfusionMatrixDisplay.from_predictions(valY_CNN.argmax(1)-1, pred.argmax(1)-1, normalize='true')\n",
    "plt.show()"
   ]
  },
  {
   "cell_type": "code",
   "execution_count": null,
   "metadata": {
    "id": "JT8-aw5MYuOU"
   },
   "outputs": [],
   "source": []
  }
 ],
 "metadata": {
  "accelerator": "GPU",
  "colab": {
   "background_execution": "on",
   "collapsed_sections": [
    "Y1zlL0YsYuOS"
   ],
   "machine_shape": "hm",
   "name": "DeepLOB.ipynb",
   "provenance": []
  },
  "kernelspec": {
   "display_name": "Python 3 (ipykernel)",
   "language": "python",
   "name": "python3"
  },
  "language_info": {
   "codemirror_mode": {
    "name": "ipython",
    "version": 3
   },
   "file_extension": ".py",
   "mimetype": "text/x-python",
   "name": "python",
   "nbconvert_exporter": "python",
   "pygments_lexer": "ipython3",
   "version": "3.9.7"
  }
 },
 "nbformat": 4,
 "nbformat_minor": 1
}
